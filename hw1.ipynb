{
 "cells": [
  {
   "cell_type": "markdown",
   "id": "5937cb21",
   "metadata": {},
   "source": [
    "## Задача №2"
   ]
  },
  {
   "cell_type": "markdown",
   "id": "70653a9f",
   "metadata": {},
   "source": [
    "На складе лежат разные фрукты в разном количестве.\n",
    "Нужно написать функцию, которая на вход принимает \n",
    "любое количество названий фруктов и их количество, \n",
    "а возвращает общее количество фруктов на складе"
   ]
  },
  {
   "cell_type": "code",
   "execution_count": 26,
   "id": "d58aa420",
   "metadata": {},
   "outputs": [],
   "source": [
    "def count_fruits(**fruits):\n",
    "    count_fruit = 0\n",
    "    for fruit, count in fruits.items():\n",
    "        count_fruit += count\n",
    "    return count_fruit   "
   ]
  },
  {
   "cell_type": "code",
   "execution_count": 27,
   "id": "9ad5e9f5",
   "metadata": {},
   "outputs": [
    {
     "name": "stdout",
     "output_type": "stream",
     "text": [
      "70\n"
     ]
    }
   ],
   "source": [
    "print(count_fruits(apple=20, orange = 10, banana = 40))"
   ]
  },
  {
   "cell_type": "markdown",
   "id": "e568e7c7",
   "metadata": {},
   "source": [
    "## Задача №3"
   ]
  },
  {
   "attachments": {},
   "cell_type": "markdown",
   "id": "f6b41f71",
   "metadata": {},
   "source": [
    "Дан список с затратами на рекламу. Но в данных есть ошибки, некоторые затраты имеют отрицательную величину. Удалите такие значения из списка и посчитайте суммарные затраты\n",
    "<br>`[100, 125, -90, 345, 655, -1, 0, 200]`<br>\n",
    "Используйте list comprehensions"
   ]
  },
  {
   "cell_type": "code",
   "execution_count": 28,
   "id": "da3d6578",
   "metadata": {},
   "outputs": [],
   "source": [
    "list_cost = [100, 125, -90, 345, 655, -1, 0, 200]"
   ]
  },
  {
   "cell_type": "code",
   "execution_count": 29,
   "id": "7a82f992",
   "metadata": {},
   "outputs": [],
   "source": [
    "cost = [x for x in list_cost if x >= 0]"
   ]
  },
  {
   "cell_type": "code",
   "execution_count": 30,
   "id": "61881b68",
   "metadata": {},
   "outputs": [
    {
     "name": "stdout",
     "output_type": "stream",
     "text": [
      "[100, 125, 345, 655, 0, 200]\n"
     ]
    }
   ],
   "source": [
    "print(cost)"
   ]
  },
  {
   "cell_type": "code",
   "execution_count": 31,
   "id": "576c389d",
   "metadata": {},
   "outputs": [
    {
     "name": "stdout",
     "output_type": "stream",
     "text": [
      "1425\n"
     ]
    }
   ],
   "source": [
    "print(sum(cost))"
   ]
  },
  {
   "cell_type": "markdown",
   "id": "da502189",
   "metadata": {},
   "source": [
    "## Задача №4"
   ]
  },
  {
   "attachments": {},
   "cell_type": "markdown",
   "id": "b40cf417",
   "metadata": {},
   "source": [
    "Даны два списка.\n",
    "Дата покупки<br>\n",
    "`['2021-09-14', '2021-12-15', '2021-09-08', '2021-12-05', '2021-10-09', '2021-09-30', '2021-12-22', '2021-11-29', '2021-12-24', '2021-11-26', '2021-10-27', '2021-12-18', '2021-11-09', '2021-11-23', '2021-09-27', '2021-10-02', '2021-12-27', '2021-09-20', '2021-12-13', '2021-11-01', '2021-11-09', '2021-12-06', '2021-12-08', '2021-10-09', '2021-10-31', '2021-09-30', '2021-11-09', '2021-12-13', '2021-10-26', '2021-12-09']`\n",
    "<br>Суммы покупок по датам<br>\n",
    "`[1270, 8413, 9028, 3703, 5739, 4095, 295, 4944, 5723, 3701, 4471, 651, 7037, 4274, 6275, 4988, 6930, 2971, 6592, 2004, 2822, 519, 3406, 2732, 5015, 2008, 316, 6333, 5700, 2887]`"
   ]
  },
  {
   "cell_type": "markdown",
   "id": "aec5cb23",
   "metadata": {},
   "source": [
    "### Условие 4.1"
   ]
  },
  {
   "cell_type": "markdown",
   "id": "be3a43c0",
   "metadata": {},
   "source": [
    "Найдите, какая выручка у компании в ноябре<br>\n",
    "Используйте list comprehensions"
   ]
  },
  {
   "cell_type": "code",
   "execution_count": 32,
   "id": "aa72064a",
   "metadata": {},
   "outputs": [],
   "source": [
    "dates = ['2021-09-14', '2021-12-15', '2021-09-08', \n",
    "         '2021-12-05', '2021-10-09', '2021-09-30', \n",
    "         '2021-12-22', '2021-11-29', '2021-12-24', \n",
    "         '2021-11-26', '2021-10-27', '2021-12-18', \n",
    "         '2021-11-09', '2021-11-23', '2021-09-27', \n",
    "         '2021-10-02', '2021-12-27', '2021-09-20', \n",
    "         '2021-12-13', '2021-11-01', '2021-11-09', \n",
    "         '2021-12-06', '2021-12-08', '2021-10-09', \n",
    "         '2021-10-31', '2021-09-30', '2021-11-09', \n",
    "         '2021-12-13', '2021-10-26', '2021-12-09']"
   ]
  },
  {
   "cell_type": "code",
   "execution_count": 33,
   "id": "0b365a08",
   "metadata": {},
   "outputs": [],
   "source": [
    "purchases = [1270, 8413, 9028, \n",
    "             3703, 5739, 4095, \n",
    "             295, 4944, 5723, \n",
    "             3701, 4471, 651, \n",
    "             7037, 4274, 6275, \n",
    "             4988, 6930, 2971, \n",
    "             6592, 2004, 2822, \n",
    "             519, 3406, 2732, \n",
    "             5015, 2008, 316, \n",
    "             6333, 5700, 2887]"
   ]
  },
  {
   "cell_type": "code",
   "execution_count": 34,
   "id": "f01975b9",
   "metadata": {},
   "outputs": [],
   "source": [
    "from datetime import datetime"
   ]
  },
  {
   "cell_type": "code",
   "execution_count": 35,
   "id": "7b9b44d4",
   "metadata": {
    "scrolled": true
   },
   "outputs": [],
   "source": [
    "indexes_dates = [dates.index(i) for i in dates if datetime.strptime(i, '%Y-%m-%d').month == 11]"
   ]
  },
  {
   "cell_type": "code",
   "execution_count": 36,
   "id": "3baaf410",
   "metadata": {},
   "outputs": [],
   "source": [
    "purchases_sum = sum([purchases[s] for s in indexes_dates])"
   ]
  },
  {
   "cell_type": "code",
   "execution_count": 37,
   "id": "ea5d0dc7",
   "metadata": {},
   "outputs": [
    {
     "name": "stdout",
     "output_type": "stream",
     "text": [
      "36034\n"
     ]
    }
   ],
   "source": [
    "print(purchases_sum)"
   ]
  },
  {
   "cell_type": "markdown",
   "id": "a34c4e28",
   "metadata": {},
   "source": [
    "### Условие 4.2"
   ]
  },
  {
   "cell_type": "markdown",
   "id": "df4c17fb",
   "metadata": {},
   "source": [
    "Найдите выручку компании в зависимости от месяца<br>\n",
    "Для этого напишите функцию, которая на вход принимает список с датами и список с выручкой, а на выходе словарь, где ключи - это месяцы, а значения - это выручка.\n",
    "<br>Используйте аннотирование типов."
   ]
  },
  {
   "cell_type": "code",
   "execution_count": 38,
   "id": "7420d114",
   "metadata": {},
   "outputs": [],
   "source": [
    "from typing import Dict, List"
   ]
  },
  {
   "cell_type": "code",
   "execution_count": 39,
   "id": "1a56620d",
   "metadata": {},
   "outputs": [],
   "source": [
    "def get_sum(list_dates: List, list_purchases: List) -> Dict:\n",
    "    purchases_sum = {}\n",
    "    months = set([datetime.strptime(m, '%Y-%m-%d').month for m in list_dates])\n",
    "    for i in months:\n",
    "        indexes_dates = [list_dates.index(d) for d in list_dates if datetime.strptime(d, '%Y-%m-%d').month == i]\n",
    "        purchases_sum[i] = sum([list_purchases[s] for s in indexes_dates])\n",
    "    return purchases_sum\n",
    "               "
   ]
  },
  {
   "cell_type": "code",
   "execution_count": 40,
   "id": "d69b46c4",
   "metadata": {},
   "outputs": [
    {
     "data": {
      "text/plain": [
       "{9: 27734, 10: 31652, 11: 36034, 12: 45711}"
      ]
     },
     "execution_count": 40,
     "metadata": {},
     "output_type": "execute_result"
    }
   ],
   "source": [
    "get_sum(dates, purchases)"
   ]
  }
 ],
 "metadata": {
  "kernelspec": {
   "display_name": "Python 3",
   "language": "python",
   "name": "python3"
  },
  "language_info": {
   "codemirror_mode": {
    "name": "ipython",
    "version": 3
   },
   "file_extension": ".py",
   "mimetype": "text/x-python",
   "name": "python",
   "nbconvert_exporter": "python",
   "pygments_lexer": "ipython3",
   "version": "3.11.0"
  },
  "vscode": {
   "interpreter": {
    "hash": "de47f5c92c0ee6f12a59a5613ac5feff6aab19ddff207ba0b3964cced08c4ccc"
   }
  }
 },
 "nbformat": 4,
 "nbformat_minor": 5
}
